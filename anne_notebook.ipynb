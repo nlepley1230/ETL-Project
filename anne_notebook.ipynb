{
 "cells": [
  {
   "cell_type": "markdown",
   "id": "44cbebee",
   "metadata": {},
   "source": [
    "# Import pandas and extract data from csv files"
   ]
  },
  {
   "cell_type": "code",
   "execution_count": null,
   "id": "a8e011f2",
   "metadata": {},
   "outputs": [],
   "source": [
    "import pandas as pd\n",
    "from sqlalchemy import create_engine"
   ]
  },
  {
   "cell_type": "code",
   "execution_count": null,
   "id": "eb820032",
   "metadata": {},
   "outputs": [],
   "source": [
    "csv_file = \"Resources/disney_plus_titles.csv\"\n",
    "disney_df = pd.read_csv(csv_file)\n",
    "disney_df.head()"
   ]
  },
  {
   "cell_type": "code",
   "execution_count": null,
   "id": "58b1a73b",
   "metadata": {},
   "outputs": [],
   "source": [
    "csv_file = \"Resources/netflix_titles.csv\"\n",
    "netflix_df = pd.read_csv(csv_file)\n",
    "netflix_df.head()"
   ]
  },
  {
   "cell_type": "markdown",
   "id": "25a1a17b",
   "metadata": {},
   "source": [
    "## Filter out anything that is not a movie"
   ]
  },
  {
   "cell_type": "code",
   "execution_count": null,
   "id": "91a8f8ba",
   "metadata": {},
   "outputs": [],
   "source": [
    "disney_movies_df = disney_df.loc[disney_df['type'] == 'Movie']\n",
    "disney_movies_df.count()"
   ]
  },
  {
   "cell_type": "code",
   "execution_count": null,
   "id": "d7ffd4d4",
   "metadata": {},
   "outputs": [],
   "source": [
    "netflix_movies_df = netflix_df.loc[netflix_df['type'] == 'Movie']\n",
    "netflix_movies_df.count()"
   ]
  },
  {
   "cell_type": "code",
   "execution_count": null,
   "id": "36283de0",
   "metadata": {},
   "outputs": [],
   "source": [
    "movies_df = pd.merge(disney_movies_df, netflix_movies_df, on=\"title\", how=\"outer\")\n",
    "movies_df.count()"
   ]
  },
  {
   "cell_type": "code",
   "execution_count": null,
   "id": "3e0f25e3",
   "metadata": {
    "scrolled": true
   },
   "outputs": [],
   "source": [
    "movies_df"
   ]
  },
  {
   "cell_type": "markdown",
   "id": "09fa4c80",
   "metadata": {},
   "source": [
    "# Prep streaming data table"
   ]
  },
  {
   "cell_type": "code",
   "execution_count": null,
   "id": "31954531",
   "metadata": {},
   "outputs": [],
   "source": [
    "streaming_data = [[1, 'Netflix'], [2, 'Disney Plus']]\n",
    "streaming_df = pd.DataFrame(streaming_data, columns = ['streaming_id', 'streaming_service_name'])"
   ]
  },
  {
   "cell_type": "code",
   "execution_count": null,
   "id": "34bea8b4",
   "metadata": {
    "scrolled": true
   },
   "outputs": [],
   "source": [
    "streaming_df"
   ]
  },
  {
   "cell_type": "markdown",
   "id": "454b9ab4",
   "metadata": {},
   "source": [
    "# Clean dataframes"
   ]
  },
  {
   "cell_type": "code",
   "execution_count": null,
   "id": "eb223025",
   "metadata": {
    "scrolled": true
   },
   "outputs": [],
   "source": [
    "#dropped Show ID \n",
    "clean_disney_movies_df= disney_movies_df.drop('show_id', axis = 1)\n",
    "clean_disney_movies_df"
   ]
  },
  {
   "cell_type": "code",
   "execution_count": null,
   "id": "d1611a2f",
   "metadata": {},
   "outputs": [],
   "source": [
    "clean_disney_movies_df = clean_disney_movies_df.assign(id=clean_disney_movies_df.reset_index().index + 1)"
   ]
  },
  {
   "cell_type": "code",
   "execution_count": null,
   "id": "9f6be8d8",
   "metadata": {},
   "outputs": [],
   "source": [
    "clean_disney_movies_df = clean_disney_movies_df.set_index('id')"
   ]
  },
  {
   "cell_type": "code",
   "execution_count": null,
   "id": "d933b621",
   "metadata": {},
   "outputs": [],
   "source": [
    "### I tried to rename the id column but couldn't \n",
    "###clean_disney_movies_df = clean_disney_movies_df.rename(columns={\"id\": \"movie_id\"})"
   ]
  },
  {
   "cell_type": "code",
   "execution_count": null,
   "id": "53f7a5fe",
   "metadata": {},
   "outputs": [],
   "source": [
    "clean_disney_movies_df['streaming_id'] = '2'"
   ]
  },
  {
   "cell_type": "code",
   "execution_count": null,
   "id": "066a555e",
   "metadata": {},
   "outputs": [],
   "source": [
    "clean_disney_movies_df"
   ]
  },
  {
   "cell_type": "code",
   "execution_count": null,
   "id": "fb64d414",
   "metadata": {
    "scrolled": true
   },
   "outputs": [],
   "source": [
    "#dropped Show ID \n",
    "clean_netflix_movies_df= netflix_movies_df.drop('show_id', axis = 1)\n",
    "clean_netflix_movies_df"
   ]
  },
  {
   "cell_type": "code",
   "execution_count": null,
   "id": "5a8b39ae",
   "metadata": {},
   "outputs": [],
   "source": [
    "clean_netflix_movies_df = clean_netflix_movies_df.assign(id=clean_netflix_movies_df.reset_index().index + 991)"
   ]
  },
  {
   "cell_type": "code",
   "execution_count": null,
   "id": "401a05d0",
   "metadata": {},
   "outputs": [],
   "source": [
    "clean_netflix_movies_df = clean_netflix_movies_df.set_index('id')"
   ]
  },
  {
   "cell_type": "code",
   "execution_count": null,
   "id": "bb9d3c9a",
   "metadata": {},
   "outputs": [],
   "source": [
    "clean_netflix_movies_df['streaming_id'] = '1'  "
   ]
  },
  {
   "cell_type": "code",
   "execution_count": null,
   "id": "7d1a23f4",
   "metadata": {},
   "outputs": [],
   "source": [
    "clean_netflix_movies_df"
   ]
  },
  {
   "cell_type": "code",
   "execution_count": null,
   "id": "95ee37d9",
   "metadata": {},
   "outputs": [],
   "source": [
    "movie_streaming_df = pd.concat([clean_disney_movies_df, clean_netflix_movies_df])"
   ]
  },
  {
   "cell_type": "code",
   "execution_count": null,
   "id": "d1fa341e",
   "metadata": {},
   "outputs": [],
   "source": [
    "movie_streaming_df"
   ]
  },
  {
   "cell_type": "code",
   "execution_count": null,
   "id": "88f4cb5b",
   "metadata": {},
   "outputs": [],
   "source": [
    "movie_streaming_df = movie_streaming_df[[\"streaming_id\"]]"
   ]
  },
  {
   "cell_type": "code",
   "execution_count": null,
   "id": "4bdafc55",
   "metadata": {},
   "outputs": [],
   "source": [
    "movie_streaming_df"
   ]
  },
  {
   "cell_type": "code",
   "execution_count": null,
   "id": "694e7bb6",
   "metadata": {},
   "outputs": [],
   "source": [
    "#combined dataframe with all movies\n",
    "combined_movies_df = pd.concat([clean_disney_movies_df, clean_netflix_movies_df], axis=0)\n",
    "combined_movies_df.count()"
   ]
  },
  {
   "cell_type": "code",
   "execution_count": null,
   "id": "72e861bb",
   "metadata": {},
   "outputs": [],
   "source": [
    "combined_movies_df = combined_movies_df.drop_duplicates(subset=['title'])\n",
    "combined_movies_df"
   ]
  },
  {
   "cell_type": "markdown",
   "id": "5e55b3ef",
   "metadata": {},
   "source": [
    "# Connect to local database"
   ]
  },
  {
   "cell_type": "code",
   "execution_count": null,
   "id": "3388bcc3",
   "metadata": {},
   "outputs": [],
   "source": [
    "## BEFORE RUNNING THIS MAKE SURE YOU HAVE A LOCAL POSTGRES DB CREATED CALLED movies_db\n",
    "## UPDATE YOUR CONNECTION STRING IF NEEDED \n",
    "\n",
    "rds_connection_string = \"postgres:bootcamp@localhost:5432/movies_db\"\n",
    "engine = create_engine(f'postgresql://{rds_connection_string}')"
   ]
  },
  {
   "cell_type": "code",
   "execution_count": null,
   "id": "17dedfb1",
   "metadata": {},
   "outputs": [],
   "source": [
    "engine.table_names()"
   ]
  },
  {
   "cell_type": "code",
   "execution_count": null,
   "id": "3dc28718",
   "metadata": {},
   "outputs": [],
   "source": [
    "streaming_df.to_sql(name='streaming', con=engine, if_exists='append', index=False)"
   ]
  },
  {
   "cell_type": "code",
   "execution_count": null,
   "id": "9a7c7af9",
   "metadata": {},
   "outputs": [],
   "source": [
    "# THIS DOESN\"T WORK YET\n",
    "##combined_movies_df.to_sql(name='movies', con=engine, if_exists='append', index=False)"
   ]
  },
  {
   "cell_type": "code",
   "execution_count": null,
   "id": "4ed80a0e",
   "metadata": {},
   "outputs": [],
   "source": [
    "# THIS DOESN\"T WORK YET\n",
    "#movie_streaming_df.to_sql(name='movie_streaming', con=engine, if_exists='append', index=False)"
   ]
  },
  {
   "cell_type": "code",
   "execution_count": null,
   "id": "7209c648",
   "metadata": {},
   "outputs": [],
   "source": []
  }
 ],
 "metadata": {
  "kernelspec": {
   "display_name": "Python 3",
   "language": "python",
   "name": "python3"
  },
  "language_info": {
   "codemirror_mode": {
    "name": "ipython",
    "version": 3
   },
   "file_extension": ".py",
   "mimetype": "text/x-python",
   "name": "python",
   "nbconvert_exporter": "python",
   "pygments_lexer": "ipython3",
   "version": "3.8.8"
  }
 },
 "nbformat": 4,
 "nbformat_minor": 5
}
