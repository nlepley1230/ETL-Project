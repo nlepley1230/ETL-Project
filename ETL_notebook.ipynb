{
 "cells": [
  {
   "cell_type": "markdown",
   "id": "32e5eb22",
   "metadata": {},
   "source": [
    "# Overview"
   ]
  },
  {
   "cell_type": "markdown",
   "id": "837c01a2",
   "metadata": {},
   "source": [
    "Our group chose to use data from two different streaming services (Netflix and Disney+) to create database that compares the different streaming services to a \"master\" movie list. \n",
    "\n",
    "https://www.kaggle.com/shivamb/netflix-shows\n",
    "https://www.kaggle.com/shivamb/disney-movies-and-tv-shows"
   ]
  },
  {
   "cell_type": "markdown",
   "id": "c7b49784",
   "metadata": {},
   "source": [
    "# Extract"
   ]
  },
  {
   "cell_type": "markdown",
   "id": "44cbebee",
   "metadata": {},
   "source": [
    "We imported our libraries and extracted the CSV data from Kaggle for each streaming service"
   ]
  },
  {
   "cell_type": "code",
   "execution_count": null,
   "id": "a8e011f2",
   "metadata": {},
   "outputs": [],
   "source": [
    "#import libraries\n",
    "import pandas as pd\n",
    "from sqlalchemy import create_engine  "
   ]
  },
  {
   "cell_type": "code",
   "execution_count": null,
   "id": "eb820032",
   "metadata": {},
   "outputs": [],
   "source": [
    "#load CSV file for Dinsey+ data from Kaggle\n",
    "csv_file = \"Resources/disney_plus_titles.csv\"\n",
    "disney_df = pd.read_csv(csv_file)\n",
    "disney_df.head()"
   ]
  },
  {
   "cell_type": "code",
   "execution_count": null,
   "id": "58b1a73b",
   "metadata": {},
   "outputs": [],
   "source": [
    "#load CSV file for Netflix data from Kaggle\n",
    "csv_file = \"Resources/netflix_titles.csv\"\n",
    "netflix_df = pd.read_csv(csv_file)\n",
    "netflix_df.head()"
   ]
  },
  {
   "cell_type": "markdown",
   "id": "afa1a76f",
   "metadata": {},
   "source": [
    "# Transform"
   ]
  },
  {
   "cell_type": "markdown",
   "id": "25a1a17b",
   "metadata": {},
   "source": [
    "These CSV files have movie and TV show data in them. We filtered the movie data for each streaming service."
   ]
  },
  {
   "cell_type": "code",
   "execution_count": null,
   "id": "91a8f8ba",
   "metadata": {},
   "outputs": [],
   "source": [
    "disney_movies_df = disney_df.loc[disney_df['type'] == 'Movie']\n",
    "disney_movies_df.count()"
   ]
  },
  {
   "cell_type": "code",
   "execution_count": null,
   "id": "d7ffd4d4",
   "metadata": {},
   "outputs": [],
   "source": [
    "netflix_movies_df = netflix_df.loc[netflix_df['type'] == 'Movie']\n",
    "netflix_movies_df.count()"
   ]
  },
  {
   "cell_type": "markdown",
   "id": "3cc881e9",
   "metadata": {},
   "source": [
    "We created a streaming data dataframe to use in identifying which movies came from which streaming service later in the process."
   ]
  },
  {
   "cell_type": "code",
   "execution_count": null,
   "id": "31954531",
   "metadata": {},
   "outputs": [],
   "source": [
    "streaming_data = [[1, 'Netflix'], [2, 'Disney Plus']]\n",
    "streaming_df = pd.DataFrame(streaming_data, columns = ['streaming_id', 'streaming_service_name'])\n",
    "streaming_df"
   ]
  },
  {
   "cell_type": "markdown",
   "id": "454b9ab4",
   "metadata": {},
   "source": [
    "We combined the filtered Disney+ and Netflix dataframe into a new combined movie dataframe. We removed duplicate movies and added a movie_id index. This is our \"master\" movie list that is compared against with the individual lists later in the notebook. "
   ]
  },
  {
   "cell_type": "code",
   "execution_count": null,
   "id": "694e7bb6",
   "metadata": {},
   "outputs": [],
   "source": [
    "#combined dataframe with all movies\n",
    "combined_movies_df = pd.concat([disney_movies_df, netflix_movies_df], axis=0)\n",
    "combined_movies_df.count()"
   ]
  },
  {
   "cell_type": "code",
   "execution_count": null,
   "id": "72e861bb",
   "metadata": {
    "scrolled": true
   },
   "outputs": [],
   "source": [
    "#remove duplicate movies from dataframe by title column\n",
    "combined_movies_df = combined_movies_df.drop_duplicates(subset=['title'])\n",
    "combined_movies_df"
   ]
  },
  {
   "cell_type": "code",
   "execution_count": null,
   "id": "d1813290",
   "metadata": {
    "scrolled": true
   },
   "outputs": [],
   "source": [
    "#add movie ID index\n",
    "combined_movies_df = combined_movies_df.assign(movie_id=combined_movies_df.reset_index().index + 1)\n",
    "combined_movies_df"
   ]
  },
  {
   "cell_type": "markdown",
   "id": "bf336615",
   "metadata": {},
   "source": [
    "We renamed a column header from cast to cast_name because cast is a command in the SQL server. We dropped and reorganized the columns to match the database order."
   ]
  },
  {
   "cell_type": "code",
   "execution_count": null,
   "id": "8aa2a924",
   "metadata": {},
   "outputs": [],
   "source": [
    "#change cast column header to cast_name for database\n",
    "combined_movies_df.rename(columns={\"cast\": \"cast_name\"}, inplace=True)"
   ]
  },
  {
   "cell_type": "code",
   "execution_count": null,
   "id": "acd66676",
   "metadata": {},
   "outputs": [],
   "source": [
    "#reorganize and drop columns for database\n",
    "combined_movies_df = combined_movies_df[[\"movie_id\", \n",
    "                                         \"title\", \n",
    "                                         \"director\", \n",
    "                                         \"cast_name\", \n",
    "                                         \"country\", \n",
    "                                         \"date_added\", \n",
    "                                         \"release_year\", \n",
    "                                         \"rating\", \n",
    "                                         \"duration\", \n",
    "                                         \"listed_in\", \n",
    "                                         \"description\"]]\n",
    "combined_movies_df"
   ]
  },
  {
   "cell_type": "markdown",
   "id": "91b5b26d",
   "metadata": {},
   "source": [
    "This section builds assoication tables that compare the \"master\" movie list and the individual streaming service lists. We did this by doing a joined for loop that creates a tuple of the movie id and streaming service number from the streaming service dataframe."
   ]
  },
  {
   "cell_type": "code",
   "execution_count": null,
   "id": "f55c4dfb",
   "metadata": {},
   "outputs": [],
   "source": [
    "# loop through the disney df, compare the title with the title in the combined_movie_df, build a tuple \n",
    "\n",
    "joined = []\n",
    "\n",
    "for i, disney_row in disney_movies_df.iterrows():\n",
    "    title = disney_row['title']\n",
    "    for j, movie_row in combined_movies_df.iterrows():\n",
    "        join = []\n",
    "        if title == movie_row['title']:\n",
    "            id = movie_row['movie_id']\n",
    "            join = [id,2]\n",
    "            joined.append(join)\n",
    "            break\n",
    "        \n",
    "print(joined)"
   ]
  },
  {
   "cell_type": "code",
   "execution_count": null,
   "id": "3eb91ad9",
   "metadata": {},
   "outputs": [],
   "source": [
    "disney_temp_df = pd.DataFrame(joined, columns = ['movie_id', 'streaming_id'])\n",
    "disney_temp_df"
   ]
  },
  {
   "cell_type": "code",
   "execution_count": null,
   "id": "3f067811",
   "metadata": {},
   "outputs": [],
   "source": [
    "# loop through the netflix df, compare the title with the title in the combined_movie_df, build a tuple \n",
    "\n",
    "joined = []\n",
    "\n",
    "for i, netflix_row in netflix_movies_df.iterrows():\n",
    "    title = netflix_row['title']\n",
    "    for j, movie_row in combined_movies_df.iterrows():\n",
    "        join = []\n",
    "        if title == movie_row['title']:\n",
    "            id = movie_row['movie_id']\n",
    "            join = [id,1]\n",
    "            joined.append(join)\n",
    "            break\n",
    "        \n",
    "print(joined)"
   ]
  },
  {
   "cell_type": "code",
   "execution_count": null,
   "id": "d299b5df",
   "metadata": {},
   "outputs": [],
   "source": [
    "netflix_temp_df = pd.DataFrame(joined, columns = ['movie_id', 'streaming_id'])\n",
    "netflix_temp_df"
   ]
  },
  {
   "cell_type": "code",
   "execution_count": null,
   "id": "b4a61313",
   "metadata": {},
   "outputs": [],
   "source": [
    "#dataframe created to combine the results of for the join for loops of each streaming serice and the \"master\" movie list\n",
    "movie_streaming_df = pd.concat([disney_temp_df, netflix_temp_df])\n",
    "movie_streaming_df"
   ]
  },
  {
   "cell_type": "code",
   "execution_count": null,
   "id": "bebba6a6",
   "metadata": {},
   "outputs": [],
   "source": []
  },
  {
   "cell_type": "markdown",
   "id": "5e55b3ef",
   "metadata": {},
   "source": [
    "# Load"
   ]
  },
  {
   "cell_type": "markdown",
   "id": "539e6e5d",
   "metadata": {},
   "source": [
    "This section we created the SQL database with three tables. Movies table that is the \"master\" movie list. Streaming which is the simple streaming service dataframe. Movie Streaming which is the combined dataframes from the joined for loop with which movies from the \"master\" movie list are on each streaming service."
   ]
  },
  {
   "cell_type": "code",
   "execution_count": null,
   "id": "3388bcc3",
   "metadata": {},
   "outputs": [],
   "source": [
    "## BEFORE RUNNING THIS MAKE SURE YOU HAVE A LOCAL POSTGRES DB CREATED CALLED movies_db\n",
    "## UPDATE YOUR CONNECTION STRING IF NEEDED \n",
    "\n",
    "rds_connection_string = \"postgres:bootcamp@localhost:5432/movies_db\"\n",
    "engine = create_engine(f'postgresql://{rds_connection_string}')"
   ]
  },
  {
   "cell_type": "code",
   "execution_count": null,
   "id": "17dedfb1",
   "metadata": {},
   "outputs": [],
   "source": [
    "engine.table_names()"
   ]
  },
  {
   "cell_type": "code",
   "execution_count": null,
   "id": "3dc28718",
   "metadata": {},
   "outputs": [],
   "source": [
    "streaming_df.to_sql(name='streaming', con=engine, if_exists='append', index=False)"
   ]
  },
  {
   "cell_type": "code",
   "execution_count": null,
   "id": "9a7c7af9",
   "metadata": {},
   "outputs": [],
   "source": [
    "\n",
    "combined_movies_df.to_sql(name='movies', con=engine, if_exists='append', index=False)"
   ]
  },
  {
   "cell_type": "code",
   "execution_count": null,
   "id": "4ed80a0e",
   "metadata": {},
   "outputs": [],
   "source": [
    "# THIS DOESN\"T WORK YET\n",
    "movie_streaming_df.to_sql(name='movie_streaming', con=engine, if_exists='append', index=False)"
   ]
  },
  {
   "cell_type": "code",
   "execution_count": null,
   "id": "7209c648",
   "metadata": {},
   "outputs": [],
   "source": []
  }
 ],
 "metadata": {
  "kernelspec": {
   "display_name": "Python 3",
   "language": "python",
   "name": "python3"
  },
  "language_info": {
   "codemirror_mode": {
    "name": "ipython",
    "version": 3
   },
   "file_extension": ".py",
   "mimetype": "text/x-python",
   "name": "python",
   "nbconvert_exporter": "python",
   "pygments_lexer": "ipython3",
   "version": "3.8.8"
  }
 },
 "nbformat": 4,
 "nbformat_minor": 5
}
