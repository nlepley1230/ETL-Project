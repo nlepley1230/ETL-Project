{
 "cells": [
  {
   "cell_type": "markdown",
   "id": "44cbebee",
   "metadata": {},
   "source": [
    "# Import pandas and extract data from csv files"
   ]
  },
  {
   "cell_type": "code",
   "execution_count": null,
   "id": "a8e011f2",
   "metadata": {},
   "outputs": [],
   "source": [
    "import pandas as pd\n",
    "from sqlalchemy import create_engine  "
   ]
  },
  {
   "cell_type": "code",
   "execution_count": null,
   "id": "eb820032",
   "metadata": {},
   "outputs": [],
   "source": [
    "csv_file = \"Resources/disney_plus_titles.csv\"\n",
    "disney_df = pd.read_csv(csv_file)\n",
    "disney_df.head()"
   ]
  },
  {
   "cell_type": "code",
   "execution_count": null,
   "id": "58b1a73b",
   "metadata": {},
   "outputs": [],
   "source": [
    "csv_file = \"Resources/netflix_titles.csv\"\n",
    "netflix_df = pd.read_csv(csv_file)\n",
    "netflix_df.head()"
   ]
  },
  {
   "cell_type": "markdown",
   "id": "25a1a17b",
   "metadata": {},
   "source": [
    "## Filter out anything that is not a movie"
   ]
  },
  {
   "cell_type": "code",
   "execution_count": null,
   "id": "91a8f8ba",
   "metadata": {},
   "outputs": [],
   "source": [
    "disney_movies_df = disney_df.loc[disney_df['type'] == 'Movie']\n",
    "disney_movies_df.count()"
   ]
  },
  {
   "cell_type": "code",
   "execution_count": null,
   "id": "d7ffd4d4",
   "metadata": {},
   "outputs": [],
   "source": [
    "netflix_movies_df = netflix_df.loc[netflix_df['type'] == 'Movie']\n",
    "netflix_movies_df.count()"
   ]
  },
  {
   "cell_type": "markdown",
   "id": "09fa4c80",
   "metadata": {},
   "source": [
    "# Prep streaming data table"
   ]
  },
  {
   "cell_type": "code",
   "execution_count": null,
   "id": "31954531",
   "metadata": {},
   "outputs": [],
   "source": [
    "streaming_data = [[1, 'Netflix'], [2, 'Disney Plus']]\n",
    "streaming_df = pd.DataFrame(streaming_data, columns = ['streaming_id', 'streaming_service_name'])"
   ]
  },
  {
   "cell_type": "code",
   "execution_count": null,
   "id": "34bea8b4",
   "metadata": {
    "scrolled": true
   },
   "outputs": [],
   "source": [
    "streaming_df"
   ]
  },
  {
   "cell_type": "markdown",
   "id": "454b9ab4",
   "metadata": {},
   "source": [
    "# Clean dataframes"
   ]
  },
  {
   "cell_type": "code",
   "execution_count": null,
   "id": "694e7bb6",
   "metadata": {},
   "outputs": [],
   "source": [
    "#combined dataframe with all movies\n",
    "combined_movies_df = pd.concat([disney_movies_df, netflix_movies_df], axis=0)\n",
    "combined_movies_df.count()"
   ]
  },
  {
   "cell_type": "code",
   "execution_count": null,
   "id": "72e861bb",
   "metadata": {
    "scrolled": true
   },
   "outputs": [],
   "source": [
    "combined_movies_df = combined_movies_df.drop_duplicates(subset=['title'])\n",
    "combined_movies_df"
   ]
  },
  {
   "cell_type": "code",
   "execution_count": null,
   "id": "d1813290",
   "metadata": {},
   "outputs": [],
   "source": [
    "combined_movies_df = combined_movies_df.set_index(\"show_id\")\n",
    "combined_movies_df.rename(columns={\"cast\": \"cast_name\"}, inplace=True)"
   ]
  },
  {
   "cell_type": "code",
   "execution_count": null,
   "id": "8aa2a924",
   "metadata": {},
   "outputs": [],
   "source": [
    "combined_movies_df"
   ]
  },
  {
   "cell_type": "code",
   "execution_count": null,
   "id": "df1c63ee",
   "metadata": {},
   "outputs": [],
   "source": [
    "combined_movies_df = combined_movies_df.assign(movie_id=combined_movies_df.reset_index().index + 1)"
   ]
  },
  {
   "cell_type": "code",
   "execution_count": null,
   "id": "373b7615",
   "metadata": {},
   "outputs": [],
   "source": [
    "combined_movies_df"
   ]
  },
  {
   "cell_type": "code",
   "execution_count": null,
   "id": "acd66676",
   "metadata": {},
   "outputs": [],
   "source": [
    "combined_movies_df = combined_movies_df[[\"movie_id\", \"title\", \"director\", \"cast_name\", \"country\", \"date_added\", \"release_year\", \"rating\", \"duration\", \"listed_in\", \"description\"]]"
   ]
  },
  {
   "cell_type": "code",
   "execution_count": null,
   "id": "34a9c721",
   "metadata": {},
   "outputs": [],
   "source": [
    "combined_movies_df"
   ]
  },
  {
   "cell_type": "markdown",
   "id": "91b5b26d",
   "metadata": {},
   "source": [
    "# Build the association table "
   ]
  },
  {
   "cell_type": "code",
   "execution_count": null,
   "id": "f55c4dfb",
   "metadata": {},
   "outputs": [],
   "source": [
    "# loop through the disney df, compare the title with the title in the combined_movie_df, build a tuple \n",
    "\n",
    "joined = []\n",
    "\n",
    "for i, disney_row in disney_movies_df.iterrows():\n",
    "    title = disney_row['title']\n",
    "    for j, movie_row in combined_movies_df.iterrows():\n",
    "        join = []\n",
    "        if title == movie_row['title']:\n",
    "            id = movie_row['movie_id']\n",
    "            join = [id,2]\n",
    "            joined.append(join)\n",
    "            break\n",
    "        \n",
    "print(joined)"
   ]
  },
  {
   "cell_type": "code",
   "execution_count": null,
   "id": "3eb91ad9",
   "metadata": {},
   "outputs": [],
   "source": [
    "disney_temp_df = pd.DataFrame(joined, columns = ['movie_id', 'streaming_id'])\n",
    "disney_temp_df"
   ]
  },
  {
   "cell_type": "code",
   "execution_count": null,
   "id": "3f067811",
   "metadata": {},
   "outputs": [],
   "source": [
    "# loop through the netflix df, compare the title with the title in the combined_movie_df, build a tuple \n",
    "\n",
    "joined = []\n",
    "\n",
    "for i, netflix_row in netflix_movies_df.iterrows():\n",
    "    title = netflix_row['title']\n",
    "    for j, movie_row in combined_movies_df.iterrows():\n",
    "        join = []\n",
    "        if title == movie_row['title']:\n",
    "            id = movie_row['movie_id']\n",
    "            join = [id,1]\n",
    "            joined.append(join)\n",
    "            break\n",
    "        \n",
    "print(joined)"
   ]
  },
  {
   "cell_type": "code",
   "execution_count": null,
   "id": "d299b5df",
   "metadata": {},
   "outputs": [],
   "source": [
    "temp_df = pd.DataFrame(joined, columns = ['movie_id', 'streaming_id'])\n",
    "temp_df"
   ]
  },
  {
   "cell_type": "code",
   "execution_count": null,
   "id": "b4a61313",
   "metadata": {},
   "outputs": [],
   "source": [
    "movie_streaming_df = pd.concat([disney_temp_df, temp_df])"
   ]
  },
  {
   "cell_type": "code",
   "execution_count": null,
   "id": "bebba6a6",
   "metadata": {},
   "outputs": [],
   "source": [
    "movie_streaming_df"
   ]
  },
  {
   "cell_type": "markdown",
   "id": "5e55b3ef",
   "metadata": {},
   "source": [
    "# Connect to local database"
   ]
  },
  {
   "cell_type": "code",
   "execution_count": null,
   "id": "3388bcc3",
   "metadata": {},
   "outputs": [],
   "source": [
    "## BEFORE RUNNING THIS MAKE SURE YOU HAVE A LOCAL POSTGRES DB CREATED CALLED movies_db\n",
    "## UPDATE YOUR CONNECTION STRING IF NEEDED \n",
    "\n",
    "rds_connection_string = \"postgres:bootcamp@localhost:5432/movies_db\"\n",
    "engine = create_engine(f'postgresql://{rds_connection_string}')"
   ]
  },
  {
   "cell_type": "code",
   "execution_count": null,
   "id": "17dedfb1",
   "metadata": {},
   "outputs": [],
   "source": [
    "engine.table_names()"
   ]
  },
  {
   "cell_type": "code",
   "execution_count": null,
   "id": "3dc28718",
   "metadata": {},
   "outputs": [],
   "source": [
    "streaming_df.to_sql(name='streaming', con=engine, if_exists='append', index=False)"
   ]
  },
  {
   "cell_type": "code",
   "execution_count": null,
   "id": "9a7c7af9",
   "metadata": {},
   "outputs": [],
   "source": [
    "\n",
    "combined_movies_df.to_sql(name='movies', con=engine, if_exists='append', index=False)"
   ]
  },
  {
   "cell_type": "code",
   "execution_count": null,
   "id": "4ed80a0e",
   "metadata": {},
   "outputs": [],
   "source": [
    "# THIS DOESN\"T WORK YET\n",
    "movie_streaming_df.to_sql(name='movie_streaming', con=engine, if_exists='append', index=False)"
   ]
  },
  {
   "cell_type": "code",
   "execution_count": null,
   "id": "7209c648",
   "metadata": {},
   "outputs": [],
   "source": []
  }
 ],
 "metadata": {
  "kernelspec": {
   "display_name": "Python 3",
   "language": "python",
   "name": "python3"
  },
  "language_info": {
   "codemirror_mode": {
    "name": "ipython",
    "version": 3
   },
   "file_extension": ".py",
   "mimetype": "text/x-python",
   "name": "python",
   "nbconvert_exporter": "python",
   "pygments_lexer": "ipython3",
   "version": "3.8.8"
  }
 },
 "nbformat": 4,
 "nbformat_minor": 5
}
