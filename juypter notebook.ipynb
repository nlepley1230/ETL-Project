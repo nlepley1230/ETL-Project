{
 "cells": [
  {
   "cell_type": "code",
   "execution_count": null,
   "id": "931fb1c5",
   "metadata": {},
   "outputs": [],
   "source": [
    "import pandas as pd\n",
    "import numpy as np\n",
    "from sqlalchemy import create_engine"
   ]
  },
  {
   "cell_type": "code",
   "execution_count": null,
   "id": "c76f0f8d",
   "metadata": {},
   "outputs": [],
   "source": [
    "#import Disney+ CSV file and create dataframe\n",
    "csv_file = \"Resources/disney_plus_titles.csv\"\n",
    "disney_df = pd.read_csv(csv_file)\n",
    "disney_df.head()"
   ]
  },
  {
   "cell_type": "code",
   "execution_count": null,
   "id": "a9bd072d",
   "metadata": {},
   "outputs": [],
   "source": [
    "#import Netflix CSV file and create dataframe\n",
    "csv_file = \"Resources/netflix_titles.csv\"\n",
    "netflix_df = pd.read_csv(csv_file)\n",
    "netflix_df.head()"
   ]
  },
  {
   "cell_type": "code",
   "execution_count": null,
   "id": "37068ce5",
   "metadata": {},
   "outputs": [],
   "source": [
    "#Remove TV show type leaving Disney+ movies, create new dataframe\n",
    "disney_movies_df = disney_df.loc[disney_df['type'] == 'Movie']\n",
    "disney_movies_df.count()"
   ]
  },
  {
   "cell_type": "code",
   "execution_count": null,
   "id": "7b38318f",
   "metadata": {},
   "outputs": [],
   "source": [
    "#Remove TV show type leaving Disney+ movies, create new dataframe\n",
    "netflix_movies_df = netflix_df.loc[netflix_df['type'] == 'Movie']\n",
    "netflix_movies_df.count()"
   ]
  },
  {
   "cell_type": "code",
   "execution_count": null,
   "id": "9981bf91",
   "metadata": {},
   "outputs": [],
   "source": [
    "#dropped Show ID \n",
    "clean_disney_movies_df= disney_movies_df.drop('show_id', axis = 1)\n",
    "clean_disney_movies_df"
   ]
  },
  {
   "cell_type": "code",
   "execution_count": null,
   "id": "c28fdab4",
   "metadata": {},
   "outputs": [],
   "source": [
    "#dropped Show ID \n",
    "clean_netflix_movies_df= netflix_movies_df.drop('show_id', axis = 1)\n",
    "clean_netflix_movies_df"
   ]
  },
  {
   "cell_type": "code",
   "execution_count": null,
   "id": "5835e7e5",
   "metadata": {
    "scrolled": true
   },
   "outputs": [],
   "source": [
    "#combined dataframe with all movies\n",
    "movies_df = pd.concat([clean_disney_movies_df, clean_netflix_movies_df], axis=0)\n",
    "movies_df.count()"
   ]
  },
  {
   "cell_type": "code",
   "execution_count": null,
   "id": "19cd3773",
   "metadata": {},
   "outputs": [],
   "source": [
    "movies_list_df=movies_df.drop_duplicates(subset=['title'])\n",
    "movies_list_df"
   ]
  },
  {
   "cell_type": "code",
   "execution_count": null,
   "id": "1cf65086",
   "metadata": {},
   "outputs": [],
   "source": []
  }
 ],
 "metadata": {
  "kernelspec": {
   "display_name": "Python 3",
   "language": "python",
   "name": "python3"
  },
  "language_info": {
   "codemirror_mode": {
    "name": "ipython",
    "version": 3
   },
   "file_extension": ".py",
   "mimetype": "text/x-python",
   "name": "python",
   "nbconvert_exporter": "python",
   "pygments_lexer": "ipython3",
   "version": "3.8.8"
  }
 },
 "nbformat": 4,
 "nbformat_minor": 5
}
